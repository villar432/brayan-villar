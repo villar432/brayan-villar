{
  "nbformat": 4,
  "nbformat_minor": 0,
  "metadata": {
    "colab": {
      "provenance": [],
      "authorship_tag": "ABX9TyO6qAICpeCchgHMEws8HRwB",
      "include_colab_link": true
    },
    "kernelspec": {
      "name": "python3",
      "display_name": "Python 3"
    },
    "language_info": {
      "name": "python"
    }
  },
  "cells": [
    {
      "cell_type": "markdown",
      "metadata": {
        "id": "view-in-github",
        "colab_type": "text"
      },
      "source": [
        "<a href=\"https://colab.research.google.com/github/villar432/brayan-villar/blob/main/Untitled0.ipynb\" target=\"_parent\"><img src=\"https://colab.research.google.com/assets/colab-badge.svg\" alt=\"Open In Colab\"/></a>"
      ]
    },
    {
      "cell_type": "code",
      "execution_count": null,
      "metadata": {
        "id": "lrU7aDi7a3qZ"
      },
      "outputs": [],
      "source": [
        "tupla=(6,)"
      ]
    },
    {
      "cell_type": "code",
      "source": [
        "carros1 = (\"Stelvio\", \"giulia\", \"aveo\", \"fiesta\")\n",
        "carros2 = (\"Veyron 16.4\", \"Focus\", \"Ateca\", \"Tucson\")\n",
        "carros3 = (\"Forester\", \"Ibiza\",\"Fabia\", \"Clio\")"
      ],
      "metadata": {
        "id": "8PnNeCfobHNr"
      },
      "execution_count": null,
      "outputs": []
    },
    {
      "cell_type": "code",
      "source": [
        "frutas = (\"apple\", \"banana\", \"cherry\", \"date\", \"fig\", \"grape\")\n",
        "print(frutas)\n",
        "print(len(frutas))"
      ],
      "metadata": {
        "colab": {
          "base_uri": "https://localhost:8080/"
        },
        "id": "vI_f9TCafknB",
        "outputId": "ba196d08-a1d5-4cd6-8c8e-92fd6b1fc7c9"
      },
      "execution_count": 1,
      "outputs": [
        {
          "output_type": "stream",
          "name": "stdout",
          "text": [
            "('apple', 'banana', 'cherry', 'date', 'fig', 'grape')\n",
            "6\n"
          ]
        }
      ]
    },
    {
      "cell_type": "code",
      "source": [
        "fruits = (\"apple\", \"banana\", \"cherry\", \"date\", \"fig\", \"grape\")\n",
        "print(fruits[2])"
      ],
      "metadata": {
        "colab": {
          "base_uri": "https://localhost:8080/"
        },
        "id": "JOj6EVoefxY6",
        "outputId": "43aa62c5-8307-4aa4-ccee-5e7975e2060b"
      },
      "execution_count": 9,
      "outputs": [
        {
          "output_type": "stream",
          "name": "stdout",
          "text": [
            "cherry\n"
          ]
        }
      ]
    },
    {
      "cell_type": "code",
      "source": [
        "colors = (\"red\", \"green\", \"blue\")\n",
        "red, green, blue = colors\n",
        "print(red)\n",
        "print(green)\n",
        "print(blue)"
      ],
      "metadata": {
        "colab": {
          "base_uri": "https://localhost:8080/"
        },
        "id": "TR6TL7jEf3Zx",
        "outputId": "f5a1a2e7-0221-4e05-c851-f090a1ce3c28"
      },
      "execution_count": 8,
      "outputs": [
        {
          "output_type": "stream",
          "name": "stdout",
          "text": [
            "red\n",
            "green\n",
            "blue\n"
          ]
        }
      ]
    },
    {
      "cell_type": "code",
      "source": [
        "tupla1 = (1, 2, 3)\n",
        "tupla2 = (4, 5, 6)\n",
        "\n",
        "tupla_concatenada = tupla1 + tupla2\n",
        "print(tupla_concatenada)"
      ],
      "metadata": {
        "colab": {
          "base_uri": "https://localhost:8080/"
        },
        "id": "MGozWmAqf-95",
        "outputId": "d5ca8260-f08a-4c9e-c9d0-dd7773ec22f9"
      },
      "execution_count": 7,
      "outputs": [
        {
          "output_type": "stream",
          "name": "stdout",
          "text": [
            "(1, 2, 3, 4, 5, 6)\n"
          ]
        }
      ]
    },
    {
      "cell_type": "code",
      "source": [
        "tupla = (\"repeat\",)\n",
        "tupla_repetida = tupla * 4\n",
        "print(tupla_repetida)"
      ],
      "metadata": {
        "colab": {
          "base_uri": "https://localhost:8080/"
        },
        "id": "dsBF7pIQgHBw",
        "outputId": "1879d47b-cb03-4e33-8be9-7f911ac88dd9"
      },
      "execution_count": 2,
      "outputs": [
        {
          "output_type": "stream",
          "name": "stdout",
          "text": [
            "('repeat', 'repeat', 'repeat', 'repeat')\n"
          ]
        }
      ]
    },
    {
      "cell_type": "code",
      "source": [
        "numbers = (10, 20, 30, 40, 50)\n",
        "\n",
        "for number in numbers:\n",
        "    print(number)"
      ],
      "metadata": {
        "colab": {
          "base_uri": "https://localhost:8080/"
        },
        "id": "eq5qvr0bgN65",
        "outputId": "edfcaf9d-29ac-426d-aea5-ac1d7551558d"
      },
      "execution_count": 3,
      "outputs": [
        {
          "output_type": "stream",
          "name": "stdout",
          "text": [
            "10\n",
            "20\n",
            "30\n",
            "40\n",
            "50\n"
          ]
        }
      ]
    },
    {
      "cell_type": "code",
      "source": [
        "tuple1 = (1, 2, 3)\n",
        "tuple2 = (\"a\", \"b\", \"c\")\n",
        "\n",
        "tupla_anidada = (tuple1, tuple2)\n",
        "print(tupla_anidada)"
      ],
      "metadata": {
        "colab": {
          "base_uri": "https://localhost:8080/"
        },
        "id": "Pix2vH-vgSKR",
        "outputId": "8e2c0884-abdd-492a-bacf-caaa628624bb"
      },
      "execution_count": 6,
      "outputs": [
        {
          "output_type": "stream",
          "name": "stdout",
          "text": [
            "((1, 2, 3), ('a', 'b', 'c'))\n"
          ]
        }
      ]
    },
    {
      "cell_type": "code",
      "source": [
        "my_list = [100, 200, 300, 400]\n",
        "my_tuple = tuple(my_list)\n",
        "print(my_tuple)"
      ],
      "metadata": {
        "colab": {
          "base_uri": "https://localhost:8080/"
        },
        "id": "MPK0r7gCgm9Z",
        "outputId": "5b936055-32e5-4ac1-8844-1014a6d25097"
      },
      "execution_count": 4,
      "outputs": [
        {
          "output_type": "stream",
          "name": "stdout",
          "text": [
            "(100, 200, 300, 400)\n"
          ]
        }
      ]
    },
    {
      "cell_type": "code",
      "source": [
        "my_tuple = (5, 10, 15, 20, 25, 30, 35)\n",
        "\n",
        "print(my_tuple[2])  # Imprime el valor en el índice 2 (15)\n",
        "print(my_tuple[1:5])  # Imprime la sub-tupla del índice 1 al 4 (10, 15, 20, 25)"
      ],
      "metadata": {
        "colab": {
          "base_uri": "https://localhost:8080/"
        },
        "id": "Y_daXF7Fg3YV",
        "outputId": "d3980285-4e22-4e84-e63c-bd46f550c5e9"
      },
      "execution_count": 5,
      "outputs": [
        {
          "output_type": "stream",
          "name": "stdout",
          "text": [
            "15\n",
            "(10, 15, 20, 25)\n"
          ]
        }
      ]
    },
    {
      "cell_type": "code",
      "source": [
        "[] persona ="
      ],
      "metadata": {
        "id": "FUM6_0FIcyPM"
      },
      "execution_count": null,
      "outputs": []
    }
  ]
}