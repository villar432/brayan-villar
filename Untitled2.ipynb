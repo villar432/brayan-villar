{
  "nbformat": 4,
  "nbformat_minor": 0,
  "metadata": {
    "colab": {
      "provenance": [],
      "authorship_tag": "ABX9TyM7+4cTQ89atzAdHMbxtyGI",
      "include_colab_link": true
    },
    "kernelspec": {
      "name": "python3",
      "display_name": "Python 3"
    },
    "language_info": {
      "name": "python"
    }
  },
  "cells": [
    {
      "cell_type": "markdown",
      "metadata": {
        "id": "view-in-github",
        "colab_type": "text"
      },
      "source": [
        "<a href=\"https://colab.research.google.com/github/villar432/brayan-villar/blob/main/Untitled2.ipynb\" target=\"_parent\"><img src=\"https://colab.research.google.com/assets/colab-badge.svg\" alt=\"Open In Colab\"/></a>"
      ]
    },
    {
      "cell_type": "code",
      "source": [
        "conjunto1 = set(map(int, input(\"Introduce el primer conjunto de números separados por espacios: \").split()))\n",
        "conjunto2 = set(map(int, input(\"Introduce el segundo conjunto de números separados por espacios: \").split()))\n",
        "\n",
        "interseccion_de_los_conjuntos = conjunto1 & conjunto2\n",
        "print(\"Números mayores que 10 en la intersección de los conjuntos:\")\n",
        "for numero in interseccion_de_los_conjuntos:\n",
        "  if numero > 10:\n",
        "    print(numero)"
      ],
      "metadata": {
        "colab": {
          "base_uri": "https://localhost:8080/"
        },
        "id": "rcY2GDZwpvt5",
        "outputId": "4b71636b-06ac-4142-d920-d9f72c849c4a"
      },
      "execution_count": null,
      "outputs": [
        {
          "output_type": "stream",
          "name": "stdout",
          "text": [
            "Introduce el primer conjunto de números separados por espacios: 12\n",
            "Introduce el segundo conjunto de números separados por espacios: 12 3 33\n",
            "Números mayores que 10 en la intersección de los conjuntos:\n",
            "12\n"
          ]
        }
      ]
    },
    {
      "cell_type": "code",
      "source": [
        "conjunto1 = set(map(int, input(\"Introduce el primer conjunto de números separados por espacios: \").split()))\n",
        "conjunto2 = set(map(int, input(\"Introduce el segundo conjunto de números separados por espacios: \").split()))\n",
        "\n",
        "interseccion = conjunto1 & conjunto2\n",
        "\n",
        "print(\"Números mayores que 10 en la intersección:\")\n",
        "for numero in interseccion:\n",
        "  if numero > 10:\n",
        "    print(numero)"
      ],
      "metadata": {
        "colab": {
          "base_uri": "https://localhost:8080/"
        },
        "id": "4Q9nFO19sGww",
        "outputId": "6dae76e7-7bd8-47e3-f879-f12575781095"
      },
      "execution_count": null,
      "outputs": [
        {
          "output_type": "stream",
          "name": "stdout",
          "text": [
            "Introduce el primer conjunto de números separados por espacios: 12 11 33 44 30\n",
            "Introduce el segundo conjunto de números separados por espacios: 12 23 11 44 56\n",
            "Números mayores que 10 en la intersección:\n",
            "11\n",
            "12\n",
            "44\n"
          ]
        }
      ]
    },
    {
      "cell_type": "code",
      "source": [
        "conjunto1 = set(input(\"Introduce el primer conjunto de palabras separadas por espacios: \").split())\n",
        "conjunto2 = set(input(\"Introduce el segundo conjunto de palabras separadas por espacios: \").split())\n",
        "\n",
        "palabras_comunes = conjunto1 & conjunto2\n",
        "\n",
        "print(\"Palabras que aparecen en ambos conjuntos:\")\n",
        "for palabra in palabras_comunes:\n",
        "  print(palabra)"
      ],
      "metadata": {
        "colab": {
          "base_uri": "https://localhost:8080/"
        },
        "id": "YPG85XpIo4t8",
        "outputId": "04536d51-c92c-43fd-e943-c0ec7a0f3365"
      },
      "execution_count": null,
      "outputs": [
        {
          "output_type": "stream",
          "name": "stdout",
          "text": [
            "Introduce el primer conjunto de palabras separadas por espacios: l k e r\n",
            "Introduce el segundo conjunto de palabras separadas por espacios: l r g h\n",
            "Palabras que aparecen en ambos conjuntos:\n",
            "r\n",
            "l\n"
          ]
        }
      ]
    },
    {
      "cell_type": "code",
      "source": [
        "conjunto1 = set(input(\"Introduce el primer conjunto de números separados por espacios: \").split())\n",
        "conjunto2 = set(input(\"Introduce el segundo conjunto de números separados por espacios: \").split())\n",
        "\n",
        "union = conjunto1 | conjunto2\n",
        "\n",
        "print(\"La unión de los dos conjuntos es:\", union)"
      ],
      "metadata": {
        "colab": {
          "base_uri": "https://localhost:8080/"
        },
        "id": "alW5-NJepZhh",
        "outputId": "5587054c-d290-4c68-8bdf-6089cc10eefd"
      },
      "execution_count": null,
      "outputs": [
        {
          "output_type": "stream",
          "name": "stdout",
          "text": [
            "Introduce el primer conjunto de números separados por espacios: 1 2 3 4\n",
            "Introduce el segundo conjunto de números separados por espacios: 3 5 4 8\n",
            "La unión de los dos conjuntos es: {'5', '8', '2', '1', '3', '4'}\n"
          ]
        }
      ]
    }
  ]
}